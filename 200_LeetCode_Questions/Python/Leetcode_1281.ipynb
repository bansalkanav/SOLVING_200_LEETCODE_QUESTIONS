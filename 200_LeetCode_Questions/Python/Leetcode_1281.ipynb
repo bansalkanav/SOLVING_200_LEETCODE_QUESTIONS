{
 "cells": [
  {
   "cell_type": "markdown",
   "id": "9465308f",
   "metadata": {},
   "source": [
    "# Given a integer number n , return the difference between the product of its digits and the sum of its digits ?"
   ]
  },
  {
   "cell_type": "code",
   "execution_count": 1,
   "id": "5d3fb493",
   "metadata": {},
   "outputs": [
    {
     "name": "stdout",
     "output_type": "stream",
     "text": [
      "Enter a integer number i.e. n : 234\n",
      "the difference between the product of its digits and the sum of its digits: 15\n"
     ]
    }
   ],
   "source": [
    "#way 1 \n",
    "n = int(input(\"Enter a integer number i.e. n : \"))\n",
    "prod = 1\n",
    "sum1 = 0\n",
    "for digit in str(n) :\n",
    "    sum1 += int(digit)           #sum1 = sum1 + int(digit)\n",
    "    prod *= int(digit)           #prod = prod * int(digit)\n",
    "print(\"the difference between the product of its digits and the sum of its digits:\",prod-sum1)"
   ]
  },
  {
   "cell_type": "code",
   "execution_count": 2,
   "id": "93d88762",
   "metadata": {},
   "outputs": [
    {
     "name": "stdout",
     "output_type": "stream",
     "text": [
      "234\n"
     ]
    },
    {
     "data": {
      "text/plain": [
       "15"
      ]
     },
     "execution_count": 2,
     "metadata": {},
     "output_type": "execute_result"
    }
   ],
   "source": [
    "#way 2\n",
    "def compute_difference():\n",
    "    n = int(input())\n",
    "    sum1 = 0\n",
    "    prod = 1\n",
    "    converted_n = str(n)\n",
    "    for digit in converted_n:\n",
    "        sum1 += int(digit)           #sum1 = sum1 + int(digit)\n",
    "        prod *= int(digit)           #prod = prod * int(digit)\n",
    "    return prod - sum1\n",
    "#     diff = compute_difference(converted_n)\n",
    "#     print(diff)\n",
    "compute_difference()"
   ]
  },
  {
   "cell_type": "code",
   "execution_count": 3,
   "id": "41f1fada",
   "metadata": {},
   "outputs": [
    {
     "name": "stdout",
     "output_type": "stream",
     "text": [
      "234\n",
      "15\n"
     ]
    }
   ],
   "source": [
    "#way3\n",
    "n = int(input())\n",
    "sum1 = 0 \n",
    "prod = 1\n",
    "while n > 0 :                    #n != 0 also works\n",
    "    digit = n % 10               #Giving reminder i.e. 4 i.e. excluding first two numbers\n",
    "    sum1 += int(digit)           #sum1 = sum1 + int(digit)\n",
    "    prod *= int(digit)           #prod = prod * int(digit)\n",
    "    \n",
    "    n = n // 10                  ##Giving Quotient i.e. 23 i.e. excluding last number\n",
    "print(prod - sum1)\n",
    "    "
   ]
  }
 ],
 "metadata": {
  "kernelspec": {
   "display_name": "Python 3 (ipykernel)",
   "language": "python",
   "name": "python3"
  },
  "language_info": {
   "codemirror_mode": {
    "name": "ipython",
    "version": 3
   },
   "file_extension": ".py",
   "mimetype": "text/x-python",
   "name": "python",
   "nbconvert_exporter": "python",
   "pygments_lexer": "ipython3",
   "version": "3.11.4"
  }
 },
 "nbformat": 4,
 "nbformat_minor": 5
}
